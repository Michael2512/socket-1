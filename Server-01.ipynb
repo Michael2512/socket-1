{
 "cells": [
  {
   "cell_type": "code",
   "execution_count": 1,
   "metadata": {
    "colab": {
     "base_uri": "https://localhost:8080/",
     "height": 388
    },
    "colab_type": "code",
    "executionInfo": {
     "elapsed": 37765,
     "status": "error",
     "timestamp": 1580225755025,
     "user": {
      "displayName": "prof.Mauro Spinarelli",
      "photoUrl": "https://lh3.googleusercontent.com/a-/AAuE7mDbZKdHfZ1KKZmMBXdWup_joryh99gWBPlUcDWsbw=s64",
      "userId": "09355810677001406160"
     },
     "user_tz": -60
    },
    "id": "qvAUHJMqyRHj",
    "outputId": "8d558643-602a-4f4f-c9b2-3cc49c69e028"
   },
   "outputs": [
    {
     "name": "stdout",
     "output_type": "stream",
     "text": [
      "Server in ascolto su ('127.0.0.1', 22223). Termina il server con Ctrl-C\n",
      "\n",
      "Connessione ricevuta da ('127.0.0.1', 58781)\n",
      "Ricevuto: 'pippo'\n"
     ]
    },
    {
     "ename": "KeyboardInterrupt",
     "evalue": "",
     "output_type": "error",
     "traceback": [
      "\u001b[0;31m---------------------------------------------------------------------------\u001b[0m",
      "\u001b[0;31mKeyboardInterrupt\u001b[0m                         Traceback (most recent call last)",
      "\u001b[0;32m<ipython-input-1-254ed04cb9b8>\u001b[0m in \u001b[0;36m<module>\u001b[0;34m\u001b[0m\n\u001b[1;32m     31\u001b[0m \u001b[0;34m\u001b[0m\u001b[0m\n\u001b[1;32m     32\u001b[0m     \u001b[0;32mwhile\u001b[0m \u001b[0;32mTrue\u001b[0m\u001b[0;34m:\u001b[0m\u001b[0;34m\u001b[0m\u001b[0;34m\u001b[0m\u001b[0m\n\u001b[0;32m---> 33\u001b[0;31m         \u001b[0mdati\u001b[0m \u001b[0;34m=\u001b[0m \u001b[0mc\u001b[0m\u001b[0;34m.\u001b[0m\u001b[0mrecv\u001b[0m\u001b[0;34m(\u001b[0m\u001b[0;36m2048\u001b[0m\u001b[0;34m)\u001b[0m\u001b[0;34m\u001b[0m\u001b[0;34m\u001b[0m\u001b[0m\n\u001b[0m\u001b[1;32m     34\u001b[0m         \u001b[0;32mif\u001b[0m \u001b[0;32mnot\u001b[0m \u001b[0mdati\u001b[0m\u001b[0;34m:\u001b[0m\u001b[0;34m\u001b[0m\u001b[0;34m\u001b[0m\u001b[0m\n\u001b[1;32m     35\u001b[0m             \u001b[0mprint\u001b[0m\u001b[0;34m(\u001b[0m\u001b[0;34m\"Fine dati dal client. Reset\"\u001b[0m\u001b[0;34m)\u001b[0m\u001b[0;34m\u001b[0m\u001b[0;34m\u001b[0m\u001b[0m\n",
      "\u001b[0;31mKeyboardInterrupt\u001b[0m: "
     ]
    }
   ],
   "source": [
    "import socket\n",
    "\n",
    "# lasciando il campo vuoto sarebbe la stessa cosa (localhost)\n",
    "SERVER_ADDRESS = '127.0.0.1'\n",
    "\n",
    "# Numero di porta, deve essere >1024 perchè le altre sono riservate.)\n",
    "SERVER_PORT = 22223\n",
    "\n",
    "# Crea la socket\n",
    "s = socket.socket()\n",
    "\n",
    "# Opzionale: permette di riavviare subito il codice, \n",
    "# altrimenti bisognerebbe aspettare 2-4 minuti prima di poter riutilizzare(bindare) la stessa porta\n",
    "s.setsockopt(socket.SOL_SOCKET, socket.SO_REUSEADDR, 1)\n",
    "\n",
    "# Associa indirizzo e porta.  Nota che  l'argumento è una tupla:\n",
    "s.bind((SERVER_ADDRESS, SERVER_PORT))\n",
    "\n",
    "# Imposta quante connessioni pendenti possono essere accodate\n",
    "s.listen(5)\n",
    "\n",
    "print(\"Server in ascolto su %s. Termina il server con Ctrl-C\" % str((SERVER_ADDRESS, SERVER_PORT)))\n",
    "\n",
    "# Abbiamo creato un endpoint di ascolto dal quale accettare connessioni in entrata\n",
    "# Il loop accetterà una connessione alla volta e la servirà finchè il client non si disconnette\n",
    "# dopodichè il server ne accetterà di nuove tra quelle in coda\n",
    "\n",
    "while True:\n",
    "    c, addr = s.accept()\n",
    "    print(\"\\nConnessione ricevuta da %s\" % str(addr))\n",
    "\n",
    "    while True:\n",
    "        dati = c.recv(2048)\n",
    "        if not dati:\n",
    "            print(\"Fine dati dal client. Reset\")\n",
    "            break\n",
    "\n",
    "        # Decodifica i byte ricevuti in una stringa unicode\n",
    "        dati = dati.decode()\n",
    "\n",
    "        print(\"Ricevuto: '%s'\" % dati)\n",
    "\n",
    "        dati = \"Risposta: \" + str(addr) + \". Ho ricevuto questo: '\" + dati + \"'\"\n",
    "\n",
    "        # codifica la stringa in byte\n",
    "        dati = dati.encode()\n",
    "\n",
    "        # Invia la risposta al client.\n",
    "        c.send(dati)\n",
    "\n",
    "    c.close()"
   ]
  },
  {
   "cell_type": "code",
   "execution_count": null,
   "metadata": {},
   "outputs": [],
   "source": []
  }
 ],
 "metadata": {
  "colab": {
   "authorship_tag": "ABX9TyOSFlM/WKk3HAsQ9hQnN1Wh",
   "collapsed_sections": [],
   "name": "Server-02.ipynb",
   "provenance": []
  },
  "kernelspec": {
   "display_name": "Python 3",
   "language": "python",
   "name": "python3"
  },
  "language_info": {
   "codemirror_mode": {
    "name": "ipython",
    "version": 3
   },
   "file_extension": ".py",
   "mimetype": "text/x-python",
   "name": "python",
   "nbconvert_exporter": "python",
   "pygments_lexer": "ipython3",
   "version": "3.7.6"
  }
 },
 "nbformat": 4,
 "nbformat_minor": 1
}
